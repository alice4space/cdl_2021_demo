{
 "cells": [
  {
   "cell_type": "markdown",
   "metadata": {},
   "source": [
    "Example outputs\n",
    "\n",
    "some imports and opening up our results file"
   ]
  },
  {
   "cell_type": "code",
   "execution_count": 6,
   "metadata": {},
   "outputs": [],
   "source": [
    "import tutorialworkflowresult\n",
    "import postprocess\n",
    "import pandas as pd\n",
    "result = tutorialworkflowresult.load_cached_workflowresult(\"results/qaoa-concentration-ccb37456-4211-43a9-949f-8f0de428e68d_workflow_result.json\")\n"
   ]
  },
  {
   "cell_type": "markdown",
   "metadata": {},
   "source": [
    "For a sanity check, we can look at the different task types in our result file"
   ]
  },
  {
   "cell_type": "code",
   "execution_count": 7,
   "metadata": {},
   "outputs": [
    {
     "data": {
      "text/plain": [
       "generate-random-parameters      18\n",
       "evaluate-params                 36\n",
       "get-graph-step                   6\n",
       "find-appropriate-params-step    18\n",
       "get-ansatz-step                  6\n",
       "get-problem-hamiltonian-step     6\n",
       "dtype: int64"
      ]
     },
     "execution_count": 7,
     "metadata": {},
     "output_type": "execute_result"
    }
   ],
   "source": [
    "pd.Series(postprocess.count_tasks(result))"
   ]
  },
  {
   "cell_type": "markdown",
   "metadata": {},
   "source": []
  },
  {
   "cell_type": "markdown",
   "metadata": {},
   "source": [
    "Now we can recreate the tables from the paper\n",
    "\n",
    "Let's first look at the graph size of 10"
   ]
  },
  {
   "cell_type": "code",
   "execution_count": 8,
   "metadata": {},
   "outputs": [
    {
     "data": {
      "text/html": [
       "<div>\n",
       "<style scoped>\n",
       "    .dataframe tbody tr th:only-of-type {\n",
       "        vertical-align: middle;\n",
       "    }\n",
       "\n",
       "    .dataframe tbody tr th {\n",
       "        vertical-align: top;\n",
       "    }\n",
       "\n",
       "    .dataframe thead tr th {\n",
       "        text-align: left;\n",
       "    }\n",
       "</style>\n",
       "<table border=\"1\" class=\"dataframe\">\n",
       "  <thead>\n",
       "    <tr>\n",
       "      <th></th>\n",
       "      <th colspan=\"3\" halign=\"left\">high</th>\n",
       "      <th colspan=\"3\" halign=\"left\">low</th>\n",
       "      <th colspan=\"3\" halign=\"left\">random</th>\n",
       "    </tr>\n",
       "    <tr>\n",
       "      <th></th>\n",
       "      <th>mean</th>\n",
       "      <th>samples</th>\n",
       "      <th>stdev</th>\n",
       "      <th>mean</th>\n",
       "      <th>samples</th>\n",
       "      <th>stdev</th>\n",
       "      <th>mean</th>\n",
       "      <th>samples</th>\n",
       "      <th>stdev</th>\n",
       "    </tr>\n",
       "  </thead>\n",
       "  <tbody>\n",
       "    <tr>\n",
       "      <th>2</th>\n",
       "      <td>-10.768107</td>\n",
       "      <td>25.0</td>\n",
       "      <td>0.324172</td>\n",
       "      <td>-3.042503</td>\n",
       "      <td>25.0</td>\n",
       "      <td>0.226903</td>\n",
       "      <td>-5.361384</td>\n",
       "      <td>25.0</td>\n",
       "      <td>0.029310</td>\n",
       "    </tr>\n",
       "    <tr>\n",
       "      <th>3</th>\n",
       "      <td>-11.564505</td>\n",
       "      <td>25.0</td>\n",
       "      <td>0.232011</td>\n",
       "      <td>-1.756597</td>\n",
       "      <td>25.0</td>\n",
       "      <td>0.197124</td>\n",
       "      <td>-8.515193</td>\n",
       "      <td>25.0</td>\n",
       "      <td>0.237816</td>\n",
       "    </tr>\n",
       "    <tr>\n",
       "      <th>4</th>\n",
       "      <td>-11.372673</td>\n",
       "      <td>25.0</td>\n",
       "      <td>0.415371</td>\n",
       "      <td>-1.359470</td>\n",
       "      <td>25.0</td>\n",
       "      <td>0.139563</td>\n",
       "      <td>-7.751085</td>\n",
       "      <td>25.0</td>\n",
       "      <td>0.128166</td>\n",
       "    </tr>\n",
       "    <tr>\n",
       "      <th>5</th>\n",
       "      <td>-11.998578</td>\n",
       "      <td>25.0</td>\n",
       "      <td>0.392505</td>\n",
       "      <td>-1.425188</td>\n",
       "      <td>25.0</td>\n",
       "      <td>0.057822</td>\n",
       "      <td>-7.263215</td>\n",
       "      <td>25.0</td>\n",
       "      <td>0.430749</td>\n",
       "    </tr>\n",
       "    <tr>\n",
       "      <th>6</th>\n",
       "      <td>-12.041428</td>\n",
       "      <td>25.0</td>\n",
       "      <td>0.404073</td>\n",
       "      <td>-1.085160</td>\n",
       "      <td>25.0</td>\n",
       "      <td>0.111601</td>\n",
       "      <td>-6.588989</td>\n",
       "      <td>25.0</td>\n",
       "      <td>0.142111</td>\n",
       "    </tr>\n",
       "    <tr>\n",
       "      <th>7</th>\n",
       "      <td>-12.400830</td>\n",
       "      <td>25.0</td>\n",
       "      <td>0.338455</td>\n",
       "      <td>-0.384711</td>\n",
       "      <td>25.0</td>\n",
       "      <td>0.054250</td>\n",
       "      <td>-6.248302</td>\n",
       "      <td>25.0</td>\n",
       "      <td>0.302951</td>\n",
       "    </tr>\n",
       "  </tbody>\n",
       "</table>\n",
       "</div>"
      ],
      "text/plain": [
       "        high                         low                      random          \\\n",
       "        mean samples     stdev      mean samples     stdev      mean samples   \n",
       "2 -10.768107    25.0  0.324172 -3.042503    25.0  0.226903 -5.361384    25.0   \n",
       "3 -11.564505    25.0  0.232011 -1.756597    25.0  0.197124 -8.515193    25.0   \n",
       "4 -11.372673    25.0  0.415371 -1.359470    25.0  0.139563 -7.751085    25.0   \n",
       "5 -11.998578    25.0  0.392505 -1.425188    25.0  0.057822 -7.263215    25.0   \n",
       "6 -12.041428    25.0  0.404073 -1.085160    25.0  0.111601 -6.588989    25.0   \n",
       "7 -12.400830    25.0  0.338455 -0.384711    25.0  0.054250 -6.248302    25.0   \n",
       "\n",
       "             \n",
       "      stdev  \n",
       "2  0.029310  \n",
       "3  0.237816  \n",
       "4  0.128166  \n",
       "5  0.430749  \n",
       "6  0.142111  \n",
       "7  0.302951  "
      ]
     },
     "execution_count": 8,
     "metadata": {},
     "output_type": "execute_result"
    }
   ],
   "source": [
    "df = postprocess.build_table(result)\n",
    "# A little pandas magic to match the table format of the paper\n",
    "df = df.reorder_levels([1,3,2,0])  # set the index order to match paper\n",
    "df = df.unstack(fill_value=0).unstack(fill_value=0).unstack(fill_value=0)  # do some unstacking to move index \"above\" our table\n",
    "\n",
    "df[10]"
   ]
  },
  {
   "cell_type": "markdown",
   "metadata": {},
   "source": [
    "We can also build the table for size 20 graphs"
   ]
  },
  {
   "cell_type": "code",
   "execution_count": 9,
   "metadata": {},
   "outputs": [
    {
     "data": {
      "text/html": [
       "<div>\n",
       "<style scoped>\n",
       "    .dataframe tbody tr th:only-of-type {\n",
       "        vertical-align: middle;\n",
       "    }\n",
       "\n",
       "    .dataframe tbody tr th {\n",
       "        vertical-align: top;\n",
       "    }\n",
       "\n",
       "    .dataframe thead tr th {\n",
       "        text-align: left;\n",
       "    }\n",
       "</style>\n",
       "<table border=\"1\" class=\"dataframe\">\n",
       "  <thead>\n",
       "    <tr>\n",
       "      <th></th>\n",
       "      <th colspan=\"3\" halign=\"left\">high</th>\n",
       "      <th colspan=\"3\" halign=\"left\">low</th>\n",
       "      <th colspan=\"3\" halign=\"left\">random</th>\n",
       "    </tr>\n",
       "    <tr>\n",
       "      <th></th>\n",
       "      <th>mean</th>\n",
       "      <th>samples</th>\n",
       "      <th>stdev</th>\n",
       "      <th>mean</th>\n",
       "      <th>samples</th>\n",
       "      <th>stdev</th>\n",
       "      <th>mean</th>\n",
       "      <th>samples</th>\n",
       "      <th>stdev</th>\n",
       "    </tr>\n",
       "  </thead>\n",
       "  <tbody>\n",
       "    <tr>\n",
       "      <th>2</th>\n",
       "      <td>-21.905006</td>\n",
       "      <td>25.0</td>\n",
       "      <td>0.158334</td>\n",
       "      <td>-6.974215</td>\n",
       "      <td>25.0</td>\n",
       "      <td>0.312482</td>\n",
       "      <td>-10.808973</td>\n",
       "      <td>25.0</td>\n",
       "      <td>0.064312</td>\n",
       "    </tr>\n",
       "    <tr>\n",
       "      <th>3</th>\n",
       "      <td>-23.385446</td>\n",
       "      <td>25.0</td>\n",
       "      <td>0.257542</td>\n",
       "      <td>-5.060608</td>\n",
       "      <td>25.0</td>\n",
       "      <td>0.367232</td>\n",
       "      <td>-17.770918</td>\n",
       "      <td>25.0</td>\n",
       "      <td>0.301702</td>\n",
       "    </tr>\n",
       "    <tr>\n",
       "      <th>4</th>\n",
       "      <td>-23.125744</td>\n",
       "      <td>25.0</td>\n",
       "      <td>0.552629</td>\n",
       "      <td>-4.693836</td>\n",
       "      <td>25.0</td>\n",
       "      <td>0.263611</td>\n",
       "      <td>-15.525672</td>\n",
       "      <td>25.0</td>\n",
       "      <td>0.052933</td>\n",
       "    </tr>\n",
       "    <tr>\n",
       "      <th>5</th>\n",
       "      <td>-23.970019</td>\n",
       "      <td>25.0</td>\n",
       "      <td>0.393869</td>\n",
       "      <td>-4.297657</td>\n",
       "      <td>25.0</td>\n",
       "      <td>0.318572</td>\n",
       "      <td>-14.791246</td>\n",
       "      <td>25.0</td>\n",
       "      <td>0.431344</td>\n",
       "    </tr>\n",
       "    <tr>\n",
       "      <th>6</th>\n",
       "      <td>-24.319740</td>\n",
       "      <td>25.0</td>\n",
       "      <td>0.494667</td>\n",
       "      <td>-3.973428</td>\n",
       "      <td>25.0</td>\n",
       "      <td>0.209656</td>\n",
       "      <td>-13.100721</td>\n",
       "      <td>25.0</td>\n",
       "      <td>0.123387</td>\n",
       "    </tr>\n",
       "    <tr>\n",
       "      <th>7</th>\n",
       "      <td>-24.590571</td>\n",
       "      <td>25.0</td>\n",
       "      <td>0.433053</td>\n",
       "      <td>-2.649677</td>\n",
       "      <td>25.0</td>\n",
       "      <td>0.190281</td>\n",
       "      <td>-12.901125</td>\n",
       "      <td>25.0</td>\n",
       "      <td>0.065717</td>\n",
       "    </tr>\n",
       "  </tbody>\n",
       "</table>\n",
       "</div>"
      ],
      "text/plain": [
       "        high                         low                       random          \\\n",
       "        mean samples     stdev      mean samples     stdev       mean samples   \n",
       "2 -21.905006    25.0  0.158334 -6.974215    25.0  0.312482 -10.808973    25.0   \n",
       "3 -23.385446    25.0  0.257542 -5.060608    25.0  0.367232 -17.770918    25.0   \n",
       "4 -23.125744    25.0  0.552629 -4.693836    25.0  0.263611 -15.525672    25.0   \n",
       "5 -23.970019    25.0  0.393869 -4.297657    25.0  0.318572 -14.791246    25.0   \n",
       "6 -24.319740    25.0  0.494667 -3.973428    25.0  0.209656 -13.100721    25.0   \n",
       "7 -24.590571    25.0  0.433053 -2.649677    25.0  0.190281 -12.901125    25.0   \n",
       "\n",
       "             \n",
       "      stdev  \n",
       "2  0.064312  \n",
       "3  0.301702  \n",
       "4  0.052933  \n",
       "5  0.431344  \n",
       "6  0.123387  \n",
       "7  0.065717  "
      ]
     },
     "execution_count": 9,
     "metadata": {},
     "output_type": "execute_result"
    }
   ],
   "source": [
    "df[20]"
   ]
  },
  {
   "cell_type": "markdown",
   "metadata": {},
   "source": [
    "and we can also easily make some plots "
   ]
  },
  {
   "cell_type": "code",
   "execution_count": 16,
   "metadata": {},
   "outputs": [
    {
     "data": {
      "text/plain": [
       "<AxesSubplot:>"
      ]
     },
     "execution_count": 16,
     "metadata": {},
     "output_type": "execute_result"
    },
    {
     "data": {
      "image/png": "[encoded data removed]",
      "text/plain": [
       "<Figure size 432x288 with 1 Axes>"
      ]
     },
     "metadata": {
      "needs_background": "light"
     },
     "output_type": "display_data"
    }
   ],
   "source": [
    "\n",
    "df[20]['low']['stdev'].plot()"
   ]
  }
 ],
 "metadata": {
  "interpreter": {
   "hash": "806e58e2c59b94d5d2009810682bc4e37954fecd41d1ae639313d114572c9a9f"
  },
  "kernelspec": {
   "display_name": "Python 3",
   "language": "python",
   "name": "python3"
  },
  "language_info": {
   "codemirror_mode": {
    "name": "ipython",
    "version": 3
   },
   "file_extension": ".py",
   "mimetype": "text/x-python",
   "name": "python",
   "nbconvert_exporter": "python",
   "pygments_lexer": "ipython3",
   "version": "3.8.6"
  }
 },
 "nbformat": 4,
 "nbformat_minor": 2
}
